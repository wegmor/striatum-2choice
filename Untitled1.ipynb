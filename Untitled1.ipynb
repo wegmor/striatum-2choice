{
 "cells": [
  {
   "cell_type": "code",
   "execution_count": 1,
   "metadata": {},
   "outputs": [],
   "source": [
    "import numpy as np\n",
    "import pandas as pd\n",
    "import seaborn as sns\n",
    "import matplotlib.pyplot as plt\n",
    "import matplotlib as mpl\n",
    "import pathlib\n",
    "import figurefirst\n",
    "import style\n",
    "import matplotlib.patches as mpatches\n",
    "import matplotlib.lines as mlines\n",
    "import analysisStaySwitchDecoding\n",
    "import analysisTunings\n",
    "from scipy.spatial.distance import squareform, pdist\n",
    "from collections import defaultdict\n",
    "from utils import readSessions, fancyViz\n",
    "import cmocean\n",
    "from matplotlib.backends.backend_pdf import PdfPages\n",
    "plt.ioff()\n",
    "style.set_context()"
   ]
  },
  {
   "cell_type": "code",
   "execution_count": 2,
   "metadata": {},
   "outputs": [],
   "source": [
    "endoDataPath = pathlib.Path(\"data\") / \"endoData_2019.hdf\"\n",
    "alignmentDataPath = pathlib.Path(\"data\") / \"alignment_190227.hdf\"\n",
    "outputFolder = pathlib.Path(\"svg\")\n",
    "cacheFolder =  pathlib.Path(\"cache\")\n",
    "templateFolder = pathlib.Path(\"templates\")\n",
    "\n",
    "if not outputFolder.is_dir():\n",
    "    outputFolder.mkdir()\n",
    "if not cacheFolder.is_dir():\n",
    "    cacheFolder.mkdir()"
   ]
  },
  {
   "cell_type": "code",
   "execution_count": 3,
   "metadata": {},
   "outputs": [],
   "source": [
    "cachedDataPath = cacheFolder / 'staySwitchAUC.pkl.bak'\n",
    "if cachedDataPath.is_file():\n",
    "    staySwitchAUC = pd.read_pickle(cachedDataPath)\n",
    "else:\n",
    "    staySwitchAUC = analysisStaySwitchDecoding.getWStayLSwitchAUC(endoDataPath)\n",
    "    staySwitchAUC.to_pickle(cachedDataPath)\n",
    "    \n",
    "cachedDataPaths = [cacheFolder / name for name in ['actionValues.pkl',\n",
    "                                                   'logRegCoefficients.pkl',\n",
    "                                                   'logRegDF.pkl']]\n",
    "if np.all([path.is_file() for path in cachedDataPaths]):\n",
    "    actionValues = pd.read_pickle(cachedDataPaths[0])\n",
    "    logRegCoef = pd.read_pickle(cachedDataPaths[1])\n",
    "    logRegDF = pd.read_pickle(cachedDataPaths[2])\n",
    "else:\n",
    "    actionValues, logRegCoef, logRegDF = analysisStaySwitchDecoding.getActionValues(endoDataPath)\n",
    "    actionValues.to_pickle(cachedDataPaths[0])\n",
    "    logRegCoef.to_pickle(cachedDataPaths[1])\n",
    "    logRegDF.to_pickle(cachedDataPaths[2])\n",
    "\n",
    "tuningData = analysisTunings.getTuningData(endoDataPath)\n",
    "tuningData['signp'] = tuningData['pct'] > .995\n",
    "tuningData['signn'] = tuningData['pct'] < .005\n",
    "\n",
    "actionValues.set_index(['genotype','animal','date','actionNo'], inplace=True)\n",
    "actionValues.sort_index(inplace=True)\n",
    "staySwitchAUC.set_index(['genotype','animal','date'], inplace=True)\n",
    "staySwitchAUC.sort_index(inplace=True)"
   ]
  },
  {
   "cell_type": "code",
   "execution_count": 8,
   "metadata": {},
   "outputs": [],
   "source": [
    "def getActionWindows(win_size=(10, 9)):\n",
    "    windows = pd.DataFrame()\n",
    "    for s in readSessions.findSessions(endoDataPath, task='2choice'):\n",
    "        print(str(s))\n",
    "        lfa = s.labelFrameActions(reward='fullTrial', switch=True, splitCenter=True)\n",
    "        deconv = s.readDeconvolvedTraces(rScore=True).reset_index(drop=True)\n",
    "        \n",
    "        if not len(lfa) == len(deconv):\n",
    "            print(str(s)+': more labeled frames than signal!')\n",
    "            continue\n",
    "    \n",
    "        lfa['index'] = deconv.index\n",
    "        deconv = deconv.set_index([lfa.label,lfa.actionNo], append=True)\n",
    "        deconv.index.names = ['index','label','actionNo']\n",
    "        deconv.columns.name = 'neuron'\n",
    "        \n",
    "        actions_idx = lfa.groupby('actionNo')[['index','actionNo','label']].first().values\n",
    "    \n",
    "        _windows = []\n",
    "        neurons = deconv.columns\n",
    "        for idx, actionNo, label in actions_idx:\n",
    "            win = deconv.loc[idx-win_size[0]:idx+win_size[1]].reset_index()\n",
    "            win.loc[win.actionNo > actionNo, neurons] = np.nan\n",
    "            win.loc[win.actionNo < actionNo-1, neurons] = np.nan\n",
    "            win['frameNo'] = np.arange(len(win))\n",
    "            win['label'] = label\n",
    "            win['actionNo'] = actionNo\n",
    "            win = win.set_index(['actionNo','label','frameNo'])[neurons]\n",
    "            win = win.unstack('frameNo').stack('neuron')\n",
    "            win.columns = pd.MultiIndex.from_product([['frameNo'], win.columns])\n",
    "            _windows.append(win.reset_index())\n",
    "        _windows = pd.concat(_windows, ignore_index=True)\n",
    "        \n",
    "        for k,v in [('date',s.meta.date),('animal',s.meta.animal),('genotype',s.meta.genotype)]:\n",
    "            _windows.insert(0,k,v)\n",
    "            \n",
    "        windows = windows.append(_windows, ignore_index=True)\n",
    "    \n",
    "    windows['action'] = windows.label.str.slice(0,4)\n",
    "    return windows"
   ]
  },
  {
   "cell_type": "code",
   "execution_count": null,
   "metadata": {},
   "outputs": [
    {
     "name": "stdout",
     "output_type": "stream",
     "text": [
      "oprm1_5574_190126\n",
      "a2a_6043_190114\n"
     ]
    }
   ],
   "source": [
    "windows = getActionWindows()"
   ]
  },
  {
   "cell_type": "code",
   "execution_count": null,
   "metadata": {},
   "outputs": [],
   "source": [
    "pcWindows.to_pickle('actionWindows.pkl')"
   ]
  },
  {
   "cell_type": "code",
   "execution_count": null,
   "metadata": {},
   "outputs": [],
   "source": [
    "windows.head()"
   ]
  },
  {
   "cell_type": "code",
   "execution_count": null,
   "metadata": {},
   "outputs": [],
   "source": []
  }
 ],
 "metadata": {
  "kernelspec": {
   "display_name": "Python 3",
   "language": "python",
   "name": "python3"
  },
  "language_info": {
   "codemirror_mode": {
    "name": "ipython",
    "version": 3
   },
   "file_extension": ".py",
   "mimetype": "text/x-python",
   "name": "python",
   "nbconvert_exporter": "python",
   "pygments_lexer": "ipython3",
   "version": "3.7.5"
  }
 },
 "nbformat": 4,
 "nbformat_minor": 4
}
