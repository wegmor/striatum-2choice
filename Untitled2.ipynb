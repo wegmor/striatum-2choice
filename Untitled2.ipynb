{
 "cells": [
  {
   "cell_type": "code",
   "execution_count": 1,
   "metadata": {},
   "outputs": [],
   "source": [
    "import numpy as np\n",
    "import pandas as pd\n",
    "import seaborn as sns\n",
    "import matplotlib.pyplot as plt\n",
    "import matplotlib as mpl\n",
    "import pathlib\n",
    "import figurefirst\n",
    "import style\n",
    "import matplotlib.patches as mpatches\n",
    "import matplotlib.lines as mlines\n",
    "import analysisStaySwitchDecoding\n",
    "import analysisTunings\n",
    "from scipy.spatial.distance import squareform, pdist\n",
    "from collections import defaultdict\n",
    "from utils import readSessions, fancyViz\n",
    "import cmocean\n",
    "from matplotlib.backends.backend_pdf import PdfPages\n",
    "plt.ioff()\n",
    "style.set_context()"
   ]
  },
  {
   "cell_type": "code",
   "execution_count": 2,
   "metadata": {},
   "outputs": [],
   "source": [
    "endoDataPath = pathlib.Path(\"data\") / \"endoData_2019.hdf\"\n",
    "alignmentDataPath = pathlib.Path(\"data\") / \"alignment_190227.hdf\"\n",
    "outputFolder = pathlib.Path(\"svg\")\n",
    "cacheFolder =  pathlib.Path(\"cache\")\n",
    "templateFolder = pathlib.Path(\"templates\")\n",
    "\n",
    "if not outputFolder.is_dir():\n",
    "    outputFolder.mkdir()\n",
    "if not cacheFolder.is_dir():\n",
    "    cacheFolder.mkdir()"
   ]
  },
  {
   "cell_type": "code",
   "execution_count": null,
   "metadata": {},
   "outputs": [
    {
     "name": "stdout",
     "output_type": "stream",
     "text": [
      "oprm1_5574_190126\n",
      "a2a_6043_190114\n",
      "d1_5643_190114\n",
      "oprm1_5464_190114\n",
      "oprm1_5308_190206\n",
      "a2a_5693_190129\n"
     ]
    }
   ],
   "source": [
    "cachedDataPath = cacheFolder / 'staySwitchAUC_switchByOrigin.pkl'\n",
    "if cachedDataPath.is_file():\n",
    "    staySwitchAUC = pd.read_pickle(cachedDataPath)\n",
    "else:\n",
    "    staySwitchAUC = analysisStaySwitchDecoding.getWStayLSwitchAUC(endoDataPath)\n",
    "    staySwitchAUC.to_pickle(cachedDataPath)"
   ]
  },
  {
   "cell_type": "code",
   "execution_count": null,
   "metadata": {},
   "outputs": [],
   "source": [
    "staySwitchAUC.head()"
   ]
  },
  {
   "cell_type": "code",
   "execution_count": null,
   "metadata": {},
   "outputs": [],
   "source": []
  }
 ],
 "metadata": {
  "kernelspec": {
   "display_name": "Python 3",
   "language": "python",
   "name": "python3"
  },
  "language_info": {
   "codemirror_mode": {
    "name": "ipython",
    "version": 3
   },
   "file_extension": ".py",
   "mimetype": "text/x-python",
   "name": "python",
   "nbconvert_exporter": "python",
   "pygments_lexer": "ipython3",
   "version": "3.7.5"
  }
 },
 "nbformat": 4,
 "nbformat_minor": 4
}
